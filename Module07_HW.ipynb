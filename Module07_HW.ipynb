{
  "nbformat": 4,
  "nbformat_minor": 0,
  "metadata": {
    "kernelspec": {
      "display_name": "Python 3",
      "language": "python",
      "name": "python3"
    },
    "language_info": {
      "codemirror_mode": {
        "name": "ipython",
        "version": 3
      },
      "file_extension": ".py",
      "mimetype": "text/x-python",
      "name": "python",
      "nbconvert_exporter": "python",
      "pygments_lexer": "ipython3",
      "version": "3.7.3"
    },
    "colab": {
      "provenance": [],
      "include_colab_link": true
    }
  },
  "cells": [
    {
      "cell_type": "markdown",
      "metadata": {
        "id": "view-in-github",
        "colab_type": "text"
      },
      "source": [
        "<a href=\"https://colab.research.google.com/github/koto253/MATH_611/blob/main/Module07_HW.ipynb\" target=\"_parent\"><img src=\"https://colab.research.google.com/assets/colab-badge.svg\" alt=\"Open In Colab\"/></a>"
      ]
    },
    {
      "cell_type": "markdown",
      "metadata": {
        "id": "iHK-G76bp0zb"
      },
      "source": [
        "## Homework Week 7\n",
        "\n",
        "1. Why the holdout method for model selection suggests to separate the data into three parts: a training set, a validation set, and a test set?\n",
        "2. Given a data set (wine), split data (20% test), apply pipeline to standardize the data, classify the data using KNeighborsClassifier (n_neighbors=10), print the test accuracy.\n",
        "\n",
        "```python\n",
        "from sklearn import datasets\n",
        "df = datasets.load_wine()\n",
        "X = df.data\n",
        "y = df.target\n",
        "```\n",
        "\n",
        "3. What is learning curve? Base on learning curve, how do you know if the model is over fitting or not?\n",
        "4. In the above data set, fit KNN using 10-fold cross validation and grid search to optimize the number of neighbors; print the optimized parameters and the test accuracy.\n",
        "5. Calculate the accuracy, precision and recall based on the following confusion matrix.\n",
        "\n",
        "|  | predicted N0 | predicted Yes|\n",
        "|--|--------------| -------------|\n",
        "|Actual No| 50 | 10|\n",
        "|Actual Yes| 5 | 100|\n",
        "\n",
        "6. Read the last section in the Chapter 6 of textbook, \"Dealing with class imbalance\". Discuss why the accuracy is not a valid meature metric in an imbalanced dataset? What other metrics can be used then?"
      ]
    }
  ]
}