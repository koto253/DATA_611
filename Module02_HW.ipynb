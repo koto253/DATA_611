{
  "nbformat": 4,
  "nbformat_minor": 0,
  "metadata": {
    "kernelspec": {
      "display_name": "Python 3",
      "language": "python",
      "name": "python3"
    },
    "language_info": {
      "codemirror_mode": {
        "name": "ipython",
        "version": 3
      },
      "file_extension": ".py",
      "mimetype": "text/x-python",
      "name": "python",
      "nbconvert_exporter": "python",
      "pygments_lexer": "ipython3",
      "version": "3.7.3"
    },
    "toc": {
      "base_numbering": 1,
      "nav_menu": {},
      "number_sections": true,
      "sideBar": true,
      "skip_h1_title": false,
      "title_cell": "Table of Contents",
      "title_sidebar": "Contents",
      "toc_cell": false,
      "toc_position": {},
      "toc_section_display": true,
      "toc_window_display": false
    },
    "colab": {
      "provenance": [],
      "include_colab_link": true
    }
  },
  "cells": [
    {
      "cell_type": "markdown",
      "metadata": {
        "id": "view-in-github",
        "colab_type": "text"
      },
      "source": [
        "<a href=\"https://colab.research.google.com/github/koto253/MATH_611/blob/main/Module02_HW.ipynb\" target=\"_parent\"><img src=\"https://colab.research.google.com/assets/colab-badge.svg\" alt=\"Open In Colab\"/></a>"
      ]
    },
    {
      "cell_type": "markdown",
      "metadata": {
        "id": "5HBT_V7mkoey"
      },
      "source": [
        "# Homework Week 2\n",
        "\n",
        "1. Explain features and targets.\n",
        "2. What is the difference between the supervised learning and unsupervised learning?\n",
        "3. What is the difference between the classification and regression? Define a specific classification problem and a regression problem that you may be interested in.\n",
        "4. Describe the roadmap of building a machine learning system.\n",
        "5. In the iris data set, explain what are $x^{(3)}$, $x_3$, and $x^{(3)}_3$?\n",
        "6. Let **w** and **x** be vectors, \n",
        "\n",
        "$$\n",
        "\\textbf{w} = \\begin{bmatrix}\n",
        "1 \\\\\n",
        "3 \\\\\n",
        "-1 \\\\\n",
        "\\end{bmatrix}\n",
        "$$\n",
        "\n",
        "$$\n",
        "\\textbf{x} = \\begin{bmatrix}\n",
        "2 \\\\\n",
        "3 \\\\\n",
        "4 \\\\\n",
        "\\end{bmatrix}\n",
        "$$\n",
        "\n",
        "What is $\\textbf{w}^{T}\\textbf{x}$? \n",
        "\n",
        "7. Using Numpy create and print **w** and **x** in #7; calculate the $\\textbf{w}^{T}\\textbf{x}$ to check your previous answer.\n"
      ]
    },
    {
      "cell_type": "markdown",
      "source": [
        "###**I. Explain features and targets**\n",
        "\n",
        "***FEATURES***__are measurable characteritics/attributes of the data you are working with. Features are the inputs to a system that you analyse.\n",
        "\n",
        "***TARGETS**__is also known as laabels/dependent variables, are the outcomes/values you want to predict based on **features**.\n",
        "the **target** variable may not be a continous values like price. It could be a categorical value, such as predicting if the customer will \"buy or not\"."
      ],
      "metadata": {
        "id": "T_4PzWtZ6SkG"
      }
    },
    {
      "cell_type": "markdown",
      "source": [
        "###***II. What is the difference between the supervised learning and unsupervised learning?***\n",
        "\n",
        "**Supervised Learning__**is  a machine Technique where the algorithm learns from a *labeled dataset*. \n",
        "A *labeled data* means that each example in the dataset is associatedd with a corresponding Target/Outout value.\n",
        "\n",
        "**Unsupervised Learning**__is a machine technique where the algorithm learns from an *unlabeled dataset*. There no predefined TARGET VALUES associated with the input data. Unsupervised learning is to find *patterns, structures/relationship* within the data itself.\n"
      ],
      "metadata": {
        "id": "ibu4HhNJ9BtK"
      }
    },
    {
      "cell_type": "markdown",
      "source": [],
      "metadata": {
        "id": "1M29khkI6Me6"
      }
    }
  ]
}