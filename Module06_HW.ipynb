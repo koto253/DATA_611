{
  "nbformat": 4,
  "nbformat_minor": 0,
  "metadata": {
    "kernelspec": {
      "display_name": "Python 3",
      "language": "python",
      "name": "python3"
    },
    "language_info": {
      "codemirror_mode": {
        "name": "ipython",
        "version": 3
      },
      "file_extension": ".py",
      "mimetype": "text/x-python",
      "name": "python",
      "nbconvert_exporter": "python",
      "pygments_lexer": "ipython3",
      "version": "3.7.3"
    },
    "colab": {
      "provenance": [],
      "include_colab_link": true
    }
  },
  "cells": [
    {
      "cell_type": "markdown",
      "metadata": {
        "id": "view-in-github",
        "colab_type": "text"
      },
      "source": [
        "<a href=\"https://colab.research.google.com/github/koto253/MATH_611/blob/main/Module06_HW.ipynb\" target=\"_parent\"><img src=\"https://colab.research.google.com/assets/colab-badge.svg\" alt=\"Open In Colab\"/></a>"
      ]
    },
    {
      "cell_type": "markdown",
      "metadata": {
        "id": "cXsdbjCSpMUc"
      },
      "source": [
        "## Homework Week 6\n",
        "\n",
        "\n",
        "\n",
        "1. Explain the idea and calculation steps of PCA.\n",
        "2. Given the following data set, how many percent of the total variance can be explained by the top 2 principal components?\n",
        "\n",
        "```python\n",
        "from sklearn.datasets import make_blobs\n",
        "from pandas import DataFrame\n",
        "# generate a classification dataset\n",
        "X, y = make_blobs(n_samples=1000, centers=3, n_features=10, random_state=1, cluster_std=3)\n",
        "```\n",
        "\n",
        "3. What is the most significant difference between PCA and LDA?\n",
        "4. Based on the data set given above, split data into 80% training and 20% test with stratification, apply PCA to pick the top 2 components, apply a classification algorithm, print the number of misclassified samples in the test set.\n",
        "5. Apply LDA to the above problem."
      ]
    },
    {
      "cell_type": "code",
      "source": [
        "from sklearn.datasets import make_blobs\n",
        "from pandas import DataFrame\n",
        "# generate a classification dataset\n",
        "X, y = make_blobs(n_samples=1000, centers=3, n_features=10, random_state=1, cluster_std=3)"
      ],
      "metadata": {
        "id": "N4AKY2l3anW_"
      },
      "execution_count": null,
      "outputs": []
    },
    {
      "cell_type": "code",
      "source": [
        "from sklearn.decomposition import PCA\n",
        "\n",
        "pca = PCA()\n",
        "\n",
        "pca.fit(X)"
      ],
      "metadata": {
        "colab": {
          "base_uri": "https://localhost:8080/"
        },
        "id": "9r7NMb-BaoaZ",
        "outputId": "6a85a8a3-d61a-4dae-b2e3-a3ec7f4060a8"
      },
      "execution_count": null,
      "outputs": [
        {
          "output_type": "execute_result",
          "data": {
            "text/plain": [
              "PCA()"
            ]
          },
          "metadata": {},
          "execution_count": 2
        }
      ]
    },
    {
      "cell_type": "code",
      "source": [
        "\n",
        "pca.explained_variance_"
      ],
      "metadata": {
        "id": "0Kw4Bb13bSYL",
        "outputId": "8fd02e9e-2c2f-4ff3-a7ee-2a57a02156de",
        "colab": {
          "base_uri": "https://localhost:8080/"
        }
      },
      "execution_count": null,
      "outputs": [
        {
          "output_type": "execute_result",
          "data": {
            "text/plain": [
              "array([154.95247836,  74.29737305,  10.25362239,   9.75948467,\n",
              "         9.41591907,   9.01213914,   8.82049391,   8.76306903,\n",
              "         7.72795736,   7.61095605])"
            ]
          },
          "metadata": {},
          "execution_count": 7
        }
      ]
    },
    {
      "cell_type": "code",
      "source": [
        "print('Variance explained by top 2 comp.: ', pca.explained_variance_ratio_[:2].sum())"
      ],
      "metadata": {
        "colab": {
          "base_uri": "https://localhost:8080/"
        },
        "id": "SEphU_ZUa6UA",
        "outputId": "36f40e8c-ca5f-4985-f0f8-668f634228dd"
      },
      "execution_count": null,
      "outputs": [
        {
          "output_type": "stream",
          "name": "stdout",
          "text": [
            "Variance explained by top 2 comp.:  0.7626066584852215\n"
          ]
        }
      ]
    },
    {
      "cell_type": "code",
      "source": [],
      "metadata": {
        "id": "jCNB56Pta8hX"
      },
      "execution_count": null,
      "outputs": []
    }
  ]
}