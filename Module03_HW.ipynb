{
  "nbformat": 4,
  "nbformat_minor": 0,
  "metadata": {
    "kernelspec": {
      "display_name": "Python 3",
      "language": "python",
      "name": "python3"
    },
    "language_info": {
      "codemirror_mode": {
        "name": "ipython",
        "version": 3
      },
      "file_extension": ".py",
      "mimetype": "text/x-python",
      "name": "python",
      "nbconvert_exporter": "python",
      "pygments_lexer": "ipython3",
      "version": "3.7.3"
    },
    "toc": {
      "base_numbering": 1,
      "nav_menu": {},
      "number_sections": true,
      "sideBar": true,
      "skip_h1_title": false,
      "title_cell": "Table of Contents",
      "title_sidebar": "Contents",
      "toc_cell": false,
      "toc_position": {},
      "toc_section_display": true,
      "toc_window_display": false
    },
    "colab": {
      "provenance": [],
      "include_colab_link": true
    }
  },
  "cells": [
    {
      "cell_type": "markdown",
      "metadata": {
        "id": "view-in-github",
        "colab_type": "text"
      },
      "source": [
        "<a href=\"https://colab.research.google.com/github/koto253/MATH_611/blob/main/Module03_HW.ipynb\" target=\"_parent\"><img src=\"https://colab.research.google.com/assets/colab-badge.svg\" alt=\"Open In Colab\"/></a>"
      ]
    },
    {
      "cell_type": "markdown",
      "metadata": {
        "id": "GF1Gfp82mHzG"
      },
      "source": [
        "## Homework Week 3\n",
        "\n",
        "1. Load the Given data set fruit.csv, which contains the samples of fruit's mass, height, and name.\n",
        "\n",
        "    https://raw.githubusercontent.com/franklin-univ-data-science/data/master/fruit.csv\n",
        "\n",
        "    columns\n",
        "    - fruit name: mandarin, apple, lemon\n",
        "    - mass\n",
        "    - height\n",
        "\n",
        "\n",
        "2. Define the features as mass and height, and the target as the variable \"isLemon\", which is derived by yourself (if fruit is lemon then 1 else -1). Print the feature matrix and target vector, respectively.\n",
        "3. Draw a scatter plot of the binary classification (isLemon) by two features (mass, height). \n",
        "4. Add x0 vector to the feature matrix X. Apply the perceptron algorithm to predict the classification (isLemon). What is the smallest number of misclassified samples you can get? (hint: try a very large number of epoch because the optimization of our current perceptron method is not efficient)\n"
      ]
    }
  ]
}