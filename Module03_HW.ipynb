{
  "nbformat": 4,
  "nbformat_minor": 0,
  "metadata": {
    "kernelspec": {
      "display_name": "Python 3",
      "language": "python",
      "name": "python3"
    },
    "language_info": {
      "codemirror_mode": {
        "name": "ipython",
        "version": 3
      },
      "file_extension": ".py",
      "mimetype": "text/x-python",
      "name": "python",
      "nbconvert_exporter": "python",
      "pygments_lexer": "ipython3",
      "version": "3.7.3"
    },
    "toc": {
      "base_numbering": 1,
      "nav_menu": {},
      "number_sections": true,
      "sideBar": true,
      "skip_h1_title": false,
      "title_cell": "Table of Contents",
      "title_sidebar": "Contents",
      "toc_cell": false,
      "toc_position": {},
      "toc_section_display": true,
      "toc_window_display": false
    },
    "colab": {
      "provenance": [],
      "include_colab_link": true
    }
  },
  "cells": [
    {
      "cell_type": "markdown",
      "metadata": {
        "id": "view-in-github",
        "colab_type": "text"
      },
      "source": [
        "<a href=\"https://colab.research.google.com/github/koto253/MATH_611/blob/main/Module03_HW.ipynb\" target=\"_parent\"><img src=\"https://colab.research.google.com/assets/colab-badge.svg\" alt=\"Open In Colab\"/></a>"
      ]
    },
    {
      "cell_type": "markdown",
      "metadata": {
        "id": "GF1Gfp82mHzG"
      },
      "source": [
        "## Homework Week 3\n",
        "\n",
        "1. Load the Given data set fruit.csv, which contains the samples of fruit's mass, height, and name.\n",
        "\n",
        "    https://raw.githubusercontent.com/franklin-univ-data-science/data/master/fruit.csv\n",
        "\n",
        "    columns\n",
        "    - fruit name: mandarin, apple, lemon\n",
        "    - mass\n",
        "    - height\n",
        "\n",
        "\n",
        "2. Define the features as mass and height, and the target as the variable \"isLemon\", which is derived by yourself (if fruit is lemon then 1 else -1). Print the feature matrix and target vector, respectively.\n",
        "3. Draw a scatter plot of the binary classification (isLemon) by two features (mass, height). \n",
        "4. Add x0 vector to the feature matrix X. Apply the perceptron algorithm to predict the classification (isLemon). What is the smallest number of misclassified samples you can get? (hint: try a very large number of epoch because the optimization of our current perceptron method is not efficient)\n"
      ]
    },
    {
      "cell_type": "code",
      "source": [
        "import pandas as pd                \n",
        "# because this data set has no head (column names), we set head=None\n",
        "\n",
        "df = pd.read_csv('https://raw.githubusercontent.com/franklin-univ-data-science/data/master/fruit.csv', header=None) \n",
        "# df[:50]\n",
        "# # df[2].value_counts()"
      ],
      "metadata": {
        "id": "ckEg2PqdGanC"
      },
      "execution_count": null,
      "outputs": []
    },
    {
      "cell_type": "code",
      "source": [
        "df[0].value_counts()"
      ],
      "metadata": {
        "id": "Hmzd_nFWI8qn",
        "outputId": "e2b5f3b3-3ce8-44a6-b587-afe80569601c",
        "colab": {
          "base_uri": "https://localhost:8080/"
        }
      },
      "execution_count": 13,
      "outputs": [
        {
          "output_type": "execute_result",
          "data": {
            "text/plain": [
              "apple         19\n",
              "lemon         16\n",
              "mandarin       5\n",
              "fruit_name     1\n",
              "Name: 0, dtype: int64"
            ]
          },
          "metadata": {},
          "execution_count": 13
        }
      ]
    },
    {
      "cell_type": "code",
      "source": [
        "# import numpy\n",
        "import numpy as np\n",
        "\n",
        "# np.where?"
      ],
      "metadata": {
        "id": "ybyG7XHZKMl2"
      },
      "execution_count": 14,
      "outputs": []
    },
    {
      "cell_type": "code",
      "source": [
        "from ast import increment_lineno\n",
        "# Define the features as mass and height, and the target as the variable \"isLemon\", \n",
        "# which is derived by yourself (if fruit is lemon then 1 else -1). \n",
        "# Print the feature matrix and target vector, respectively.\n",
        "\n",
        "import matplotlib.pyplot as plt\n",
        "import numpy as np\n",
        "%matplotlib inline \n",
        "\n",
        "# define target vector \"isLemon\"\n",
        "isLemon = df.iloc[0:40, 0].values ## select the label column in first 40 instances, which have apple, lemon and mandarin\n",
        "\n",
        "isLemon = np.where(isLemon == 'lemon', -1, 1) ## define the target (lemon as -1, apple and mandarin as 1)\n",
        "\n",
        "isLemon\n"
      ],
      "metadata": {
        "id": "i5TTOnCqKWdL",
        "outputId": "59dfedeb-bf1e-4609-b93e-dc311b6abf12",
        "colab": {
          "base_uri": "https://localhost:8080/"
        }
      },
      "execution_count": 15,
      "outputs": [
        {
          "output_type": "execute_result",
          "data": {
            "text/plain": [
              "array([ 1, -1, -1, -1, -1, -1, -1, -1, -1, -1, -1, -1, -1, -1, -1, -1, -1,\n",
              "        1,  1,  1,  1,  1,  1,  1,  1,  1,  1,  1,  1,  1,  1,  1,  1,  1,\n",
              "        1,  1,  1,  1,  1,  1])"
            ]
          },
          "metadata": {},
          "execution_count": 15
        }
      ]
    }
  ]
}