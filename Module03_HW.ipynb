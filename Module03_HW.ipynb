{
  "nbformat": 4,
  "nbformat_minor": 0,
  "metadata": {
    "kernelspec": {
      "display_name": "Python 3",
      "language": "python",
      "name": "python3"
    },
    "language_info": {
      "codemirror_mode": {
        "name": "ipython",
        "version": 3
      },
      "file_extension": ".py",
      "mimetype": "text/x-python",
      "name": "python",
      "nbconvert_exporter": "python",
      "pygments_lexer": "ipython3",
      "version": "3.7.3"
    },
    "toc": {
      "base_numbering": 1,
      "nav_menu": {},
      "number_sections": true,
      "sideBar": true,
      "skip_h1_title": false,
      "title_cell": "Table of Contents",
      "title_sidebar": "Contents",
      "toc_cell": false,
      "toc_position": {},
      "toc_section_display": true,
      "toc_window_display": false
    },
    "colab": {
      "provenance": [],
      "include_colab_link": true
    }
  },
  "cells": [
    {
      "cell_type": "markdown",
      "metadata": {
        "id": "view-in-github",
        "colab_type": "text"
      },
      "source": [
        "<a href=\"https://colab.research.google.com/github/koto253/MATH_611/blob/main/Module03_HW.ipynb\" target=\"_parent\"><img src=\"https://colab.research.google.com/assets/colab-badge.svg\" alt=\"Open In Colab\"/></a>"
      ]
    },
    {
      "cell_type": "markdown",
      "metadata": {
        "id": "GF1Gfp82mHzG"
      },
      "source": [
        "## Homework Week 3\n",
        "\n",
        "1. Load the Given data set fruit.csv, which contains the samples of fruit's mass, height, and name.\n",
        "\n",
        "    https://raw.githubusercontent.com/franklin-univ-data-science/data/master/fruit.csv\n",
        "\n",
        "    columns\n",
        "    - fruit name: mandarin, apple, lemon\n",
        "    - mass\n",
        "    - height\n",
        "\n",
        "\n",
        "2. Define the features as mass and height, and the target as the variable \"isLemon\", which is derived by yourself (if fruit is lemon then 1 else -1). Print the feature matrix and target vector, respectively.\n",
        "3. Draw a scatter plot of the binary classification (isLemon) by two features (mass, height). \n",
        "4. Add x0 vector to the feature matrix X. Apply the perceptron algorithm to predict the classification (isLemon). What is the smallest number of misclassified samples you can get? (hint: try a very large number of epoch because the optimization of our current perceptron method is not efficient)\n"
      ]
    },
    {
      "cell_type": "code",
      "source": [
        "import pandas as pd                \n",
        "# because this data set has no head (column names), we set head=None\n",
        "\n",
        "df = pd.read_csv('https://raw.githubusercontent.com/franklin-univ-data-science/data/master/fruit.csv', header=None) \n",
        "df[:50]"
      ],
      "metadata": {
        "id": "ckEg2PqdGanC"
      },
      "execution_count": null,
      "outputs": []
    },
    {
      "cell_type": "code",
      "source": [
        "df[0].value_counts()"
      ],
      "metadata": {
        "colab": {
          "base_uri": "https://localhost:8080/"
        },
        "id": "Hmzd_nFWI8qn",
        "outputId": "b8b4d482-b7c6-498f-d297-1f764f289a24"
      },
      "execution_count": 8,
      "outputs": [
        {
          "output_type": "execute_result",
          "data": {
            "text/plain": [
              "apple         19\n",
              "lemon         16\n",
              "mandarin       5\n",
              "fruit_name     1\n",
              "Name: 0, dtype: int64"
            ]
          },
          "metadata": {},
          "execution_count": 8
        }
      ]
    },
    {
      "cell_type": "code",
      "source": [
        "# import numpy\n",
        "import numpy as np\n",
        "\n",
        "# np.where?"
      ],
      "metadata": {
        "id": "ybyG7XHZKMl2"
      },
      "execution_count": 9,
      "outputs": []
    },
    {
      "cell_type": "code",
      "source": [
        "np.where?"
      ],
      "metadata": {
        "id": "8ZQdralDpYgY"
      },
      "execution_count": 11,
      "outputs": []
    },
    {
      "cell_type": "code",
      "source": [
        "\n",
        "# Define the features as mass and height, and the target as the variable \"isLemon\", \n",
        "# which is derived by yourself (if fruit is lemon then 1 else -1). \n",
        "\n",
        "\n",
        "import matplotlib.pyplot as plt\n",
        "import numpy as np\n",
        "%matplotlib inline \n",
        "\n",
        "# define target vector \"isLemon\"\n",
        "isLemon = df.iloc[0:40, 0].values ## select the label column in first 40 instances, which have apple, lemon and mandarin\n",
        "\n",
        "isLemon = np.where(isLemon == 'lemon', -1, 1) ## define the target (lemon as -1, apple and mandarin as 1)\n",
        "\n",
        "# Print the feature matrix and target vector, respectively.\n",
        "isLemon\n"
      ],
      "metadata": {
        "colab": {
          "base_uri": "https://localhost:8080/"
        },
        "id": "i5TTOnCqKWdL",
        "outputId": "aab0e309-60d7-4900-db93-160852583ee2"
      },
      "execution_count": 10,
      "outputs": [
        {
          "output_type": "execute_result",
          "data": {
            "text/plain": [
              "array([ 1, -1, -1, -1, -1, -1, -1, -1, -1, -1, -1, -1, -1, -1, -1, -1, -1,\n",
              "        1,  1,  1,  1,  1,  1,  1,  1,  1,  1,  1,  1,  1,  1,  1,  1,  1,\n",
              "        1,  1,  1,  1,  1,  1])"
            ]
          },
          "metadata": {},
          "execution_count": 10
        }
      ]
    },
    {
      "cell_type": "code",
      "source": [
        "## 3. Draw a scatter plot of the binary classification (isLemon) by two features (mass, height).\n",
        "\n",
        "X = df.iloc[0:40, [1, 2]].values ## eXtract the columns of Mass length and Heigh length\n",
        "\n",
        "\n",
        "# Make the plot a little larger\n",
        "f = plt.figure()\n",
        "f.set_figwidth(10)\n",
        "f.set_figheight(10)\n",
        "\n",
        "# plot data\n",
        "plt.scatter(X[: 16, 0], X[: 16, 1],\n",
        "            color='red', marker='o', label='lemon')\n",
        "\n",
        "plt.scatter(X[16: 40, 0], X[16: 40, 1],\n",
        "            color='blue', marker='x', label='others')\n",
        "\n",
        "plt.xlabel('height length [cm]')\n",
        "plt.ylabel('mass length [cm]')\n",
        "plt.legend(loc='upper left')\n",
        "\n",
        "plt.show()\n"
      ],
      "metadata": {
        "colab": {
          "base_uri": "https://localhost:8080/",
          "height": 850
        },
        "id": "YLQ2BVL-MpcI",
        "outputId": "ad143a00-86a0-4027-ac81-4c2340bf7365"
      },
      "execution_count": 12,
      "outputs": [
        {
          "output_type": "display_data",
          "data": {
            "text/plain": [
              "<Figure size 1000x1000 with 1 Axes>"
            ],
            "image/png": "[encoded data removed]"
          },
          "metadata": {}
        }
      ]
    },
    {
      "cell_type": "code",
      "source": [
        "# Add x0 vector to the feature matrix x\n",
        "x0 = np.ones((x.shape[0], 1))\n",
        "X = np.hstack((x0, x))\n",
        "\n",
        "# Perceptron algorithm\n",
        "class Perceptron():\n",
        "\n",
        "    def __init__(self, eta=0.01, n_iter=50, random_state=1):\n",
        "        self.eta = eta\n",
        "        self.n_iter = n_iter\n",
        "        self.random_state = random_state\n",
        "\n",
        "\n",
        "    def fit(self, X, y):\n",
        "        \"\"\"Fit training data.\n",
        "\n",
        "        Parameters\n",
        "        ----------\n",
        "        X : {array-like}, shape = [n_samples, n_features]\n",
        "          Training vectors, where n_samples is the number of samples and\n",
        "          n_features is the number of features.\n",
        "        y : array-like, shape = [n_samples]\n",
        "          Target values.\n",
        "\n",
        "        Returns\n",
        "        -------\n",
        "        self : object\n",
        "\n",
        "        \"\"\"\n",
        "        #initialize the weights\n",
        "        rgen = np.random.RandomState(self.random_state)      #rgen is a NumPy random number generator seeded with a user-specified random seed so that we can reproduce previous results\n",
        "        self.w_ = rgen.normal(loc=0.0, scale=0.01, size=X.shape[1]) # get the initial weight\n",
        "        self.errors_ = []\n",
        "\n",
        "        for _ in range(self.n_iter):  # Loop over number of iterations\n",
        "            errors = 0\n",
        "            for xi, target in zip(X, y):  # Loop over the samples\n",
        "                update = self.eta * (target - self.predict(xi))\n",
        "                self.w_ += update * xi\n",
        "                errors += int(update != 0.0)\n",
        "            self.errors_.append(errors)\n",
        "        return self\n",
        "\n",
        "    def net_input(self, X):\n",
        "        \"\"\"Calculate net input\"\"\"\n",
        "        return X @ self.w_\n",
        "  \n",
        "\n",
        "    def predict(self, X):\n",
        "        \"\"\"Return class label after unit step\"\"\"\n",
        "        return np.where(self.net_input(X) >= 0.0, 1, -1)"
      ],
      "metadata": {
        "id": "8KiYUJC3VWll"
      },
      "execution_count": null,
      "outputs": []
    },
    {
      "cell_type": "code",
      "source": [
        "# in X1, add x0 to feature matrix X (vector with all elements as 1) that represent the bias unit - w_[0] \n",
        "m = isLemon.size\n",
        "vector_ones = np.ones(m).reshape(m, 1)\n",
        "\n",
        "# Could also do\n",
        "# vecotr_ones = np.ones_like(y)\n",
        "\n",
        "# Could also do\n",
        "# vecotr_ones = np.ones_like(y)\n",
        "\n",
        "X1 = np.hstack([vector_ones, X])              #joining NumPy arrays by axes - stacking along rows\n",
        "\n",
        "X1"
      ],
      "metadata": {
        "id": "pZWTcT-2WgMA",
        "outputId": "ba97d48a-075f-43c0-d2df-eae69090eeee",
        "colab": {
          "base_uri": "https://localhost:8080/"
        }
      },
      "execution_count": null,
      "outputs": [
        {
          "output_type": "execute_result",
          "data": {
            "text/plain": [
              "array([[1.0, 1.0, 'mass', 'height'],\n",
              "       [1.0, 1.0, '116', '7.9'],\n",
              "       [1.0, 1.0, '116', '8.5'],\n",
              "       [1.0, 1.0, '116', '8'],\n",
              "       [1.0, 1.0, '116', '8.1'],\n",
              "       [1.0, 1.0, '118', '8'],\n",
              "       [1.0, 1.0, '118', '8.1'],\n",
              "       [1.0, 1.0, '120', '8.4'],\n",
              "       [1.0, 1.0, '130', '8.2'],\n",
              "       [1.0, 1.0, '132', '8.7'],\n",
              "       [1.0, 1.0, '152', '9'],\n",
              "       [1.0, 1.0, '174', '10.1'],\n",
              "       [1.0, 1.0, '186', '9.2'],\n",
              "       [1.0, 1.0, '194', '10.3'],\n",
              "       [1.0, 1.0, '196', '9.7'],\n",
              "       [1.0, 1.0, '200', '10.5'],\n",
              "       [1.0, 1.0, '216', '10.2'],\n",
              "       [1.0, 1.0, '140', '7.1'],\n",
              "       [1.0, 1.0, '152', '7.3'],\n",
              "       [1.0, 1.0, '154', '7.1'],\n",
              "       [1.0, 1.0, '156', '7.1'],\n",
              "       [1.0, 1.0, '156', '7.5'],\n",
              "       [1.0, 1.0, '156', '7.4'],\n",
              "       [1.0, 1.0, '160', '7.5'],\n",
              "       [1.0, 1.0, '162', '7.1'],\n",
              "       [1.0, 1.0, '162', '7.2'],\n",
              "       [1.0, 1.0, '164', '7.7'],\n",
              "       [1.0, 1.0, '166', '7.3'],\n",
              "       [1.0, 1.0, '168', '7.6'],\n",
              "       [1.0, 1.0, '170', '7.9'],\n",
              "       [1.0, 1.0, '172', '7'],\n",
              "       [1.0, 1.0, '172', '7.6'],\n",
              "       [1.0, 1.0, '176', '7.2'],\n",
              "       [1.0, 1.0, '178', '7.8'],\n",
              "       [1.0, 1.0, '180', '6.8'],\n",
              "       [1.0, 1.0, '192', '7.3'],\n",
              "       [1.0, 1.0, '76', '4'],\n",
              "       [1.0, 1.0, '80', '4.3'],\n",
              "       [1.0, 1.0, '80', '4.3'],\n",
              "       [1.0, 1.0, '84', '4.6']], dtype=object)"
            ]
          },
          "metadata": {},
          "execution_count": 28
        }
      ]
    },
    {
      "cell_type": "code",
      "source": [
        "# train the perceptron algorithm on the Iris data subset extracted\n",
        "ppn = Perceptron(eta=0.1, n_iter=10, random_state=1)\n",
        "\n",
        "ppn.fit(X1, isLemon)\n",
        "\n",
        "# plot the misclassification error for each epoch to check whether the algorithm converged\n",
        "# and found a decision boundary that separates the two Iris flower classes\n",
        "plt.plot(range(1, ppn.n_iter + 1), ppn.errors_, marker='o')\n",
        "plt.xlabel('Epochs')\n",
        "plt.ylabel('Number of updates')\n",
        "\n",
        "plt.show()"
      ],
      "metadata": {
        "id": "1ebrLx0gWvxj",
        "outputId": "38ec1ef6-88fc-41ce-c718-4b152034d791",
        "colab": {
          "base_uri": "https://localhost:8080/",
          "height": 380
        }
      },
      "execution_count": null,
      "outputs": [
        {
          "output_type": "error",
          "ename": "TypeError",
          "evalue": "ignored",
          "traceback": [
            "\u001b[0;31m---------------------------------------------------------------------------\u001b[0m",
            "\u001b[0;31mTypeError\u001b[0m                                 Traceback (most recent call last)",
            "\u001b[0;32m<ipython-input-30-a03ac24a6d28>\u001b[0m in \u001b[0;36m<cell line: 4>\u001b[0;34m()\u001b[0m\n\u001b[1;32m      2\u001b[0m \u001b[0mppn\u001b[0m \u001b[0;34m=\u001b[0m \u001b[0mPerceptron\u001b[0m\u001b[0;34m(\u001b[0m\u001b[0meta\u001b[0m\u001b[0;34m=\u001b[0m\u001b[0;36m0.1\u001b[0m\u001b[0;34m,\u001b[0m \u001b[0mn_iter\u001b[0m\u001b[0;34m=\u001b[0m\u001b[0;36m10\u001b[0m\u001b[0;34m,\u001b[0m \u001b[0mrandom_state\u001b[0m\u001b[0;34m=\u001b[0m\u001b[0;36m1\u001b[0m\u001b[0;34m)\u001b[0m\u001b[0;34m\u001b[0m\u001b[0;34m\u001b[0m\u001b[0m\n\u001b[1;32m      3\u001b[0m \u001b[0;34m\u001b[0m\u001b[0m\n\u001b[0;32m----> 4\u001b[0;31m \u001b[0mppn\u001b[0m\u001b[0;34m.\u001b[0m\u001b[0mfit\u001b[0m\u001b[0;34m(\u001b[0m\u001b[0mX1\u001b[0m\u001b[0;34m,\u001b[0m \u001b[0misLemon\u001b[0m\u001b[0;34m)\u001b[0m\u001b[0;34m\u001b[0m\u001b[0;34m\u001b[0m\u001b[0m\n\u001b[0m\u001b[1;32m      5\u001b[0m \u001b[0;34m\u001b[0m\u001b[0m\n\u001b[1;32m      6\u001b[0m \u001b[0;31m# plot the misclassification error for each epoch to check whether the algorithm converged\u001b[0m\u001b[0;34m\u001b[0m\u001b[0;34m\u001b[0m\u001b[0m\n",
            "\u001b[0;32m<ipython-input-26-30043fc8860d>\u001b[0m in \u001b[0;36mfit\u001b[0;34m(self, X, y)\u001b[0m\n\u001b[1;32m     36\u001b[0m             \u001b[0merrors\u001b[0m \u001b[0;34m=\u001b[0m \u001b[0;36m0\u001b[0m\u001b[0;34m\u001b[0m\u001b[0;34m\u001b[0m\u001b[0m\n\u001b[1;32m     37\u001b[0m             \u001b[0;32mfor\u001b[0m \u001b[0mxi\u001b[0m\u001b[0;34m,\u001b[0m \u001b[0mtarget\u001b[0m \u001b[0;32min\u001b[0m \u001b[0mzip\u001b[0m\u001b[0;34m(\u001b[0m\u001b[0mX\u001b[0m\u001b[0;34m,\u001b[0m \u001b[0my\u001b[0m\u001b[0;34m)\u001b[0m\u001b[0;34m:\u001b[0m  \u001b[0;31m# Loop over the samples\u001b[0m\u001b[0;34m\u001b[0m\u001b[0;34m\u001b[0m\u001b[0m\n\u001b[0;32m---> 38\u001b[0;31m                 \u001b[0mupdate\u001b[0m \u001b[0;34m=\u001b[0m \u001b[0mself\u001b[0m\u001b[0;34m.\u001b[0m\u001b[0meta\u001b[0m \u001b[0;34m*\u001b[0m \u001b[0;34m(\u001b[0m\u001b[0mtarget\u001b[0m \u001b[0;34m-\u001b[0m \u001b[0mself\u001b[0m\u001b[0;34m.\u001b[0m\u001b[0mpredict\u001b[0m\u001b[0;34m(\u001b[0m\u001b[0mxi\u001b[0m\u001b[0;34m)\u001b[0m\u001b[0;34m)\u001b[0m\u001b[0;34m\u001b[0m\u001b[0;34m\u001b[0m\u001b[0m\n\u001b[0m\u001b[1;32m     39\u001b[0m                 \u001b[0mself\u001b[0m\u001b[0;34m.\u001b[0m\u001b[0mw_\u001b[0m \u001b[0;34m+=\u001b[0m \u001b[0mupdate\u001b[0m \u001b[0;34m*\u001b[0m \u001b[0mxi\u001b[0m\u001b[0;34m\u001b[0m\u001b[0;34m\u001b[0m\u001b[0m\n\u001b[1;32m     40\u001b[0m                 \u001b[0merrors\u001b[0m \u001b[0;34m+=\u001b[0m \u001b[0mint\u001b[0m\u001b[0;34m(\u001b[0m\u001b[0mupdate\u001b[0m \u001b[0;34m!=\u001b[0m \u001b[0;36m0.0\u001b[0m\u001b[0;34m)\u001b[0m\u001b[0;34m\u001b[0m\u001b[0;34m\u001b[0m\u001b[0m\n",
            "\u001b[0;32m<ipython-input-26-30043fc8860d>\u001b[0m in \u001b[0;36mpredict\u001b[0;34m(self, X)\u001b[0m\n\u001b[1;32m     49\u001b[0m     \u001b[0;32mdef\u001b[0m \u001b[0mpredict\u001b[0m\u001b[0;34m(\u001b[0m\u001b[0mself\u001b[0m\u001b[0;34m,\u001b[0m \u001b[0mX\u001b[0m\u001b[0;34m)\u001b[0m\u001b[0;34m:\u001b[0m\u001b[0;34m\u001b[0m\u001b[0;34m\u001b[0m\u001b[0m\n\u001b[1;32m     50\u001b[0m         \u001b[0;34m\"\"\"Return class label after unit step\"\"\"\u001b[0m\u001b[0;34m\u001b[0m\u001b[0;34m\u001b[0m\u001b[0m\n\u001b[0;32m---> 51\u001b[0;31m         \u001b[0;32mreturn\u001b[0m \u001b[0mnp\u001b[0m\u001b[0;34m.\u001b[0m\u001b[0mwhere\u001b[0m\u001b[0;34m(\u001b[0m\u001b[0mself\u001b[0m\u001b[0;34m.\u001b[0m\u001b[0mnet_input\u001b[0m\u001b[0;34m(\u001b[0m\u001b[0mX\u001b[0m\u001b[0;34m)\u001b[0m \u001b[0;34m>=\u001b[0m \u001b[0;36m0.0\u001b[0m\u001b[0;34m,\u001b[0m \u001b[0;36m1\u001b[0m\u001b[0;34m,\u001b[0m \u001b[0;34m-\u001b[0m\u001b[0;36m1\u001b[0m\u001b[0;34m)\u001b[0m\u001b[0;34m\u001b[0m\u001b[0;34m\u001b[0m\u001b[0m\n\u001b[0m",
            "\u001b[0;32m<ipython-input-26-30043fc8860d>\u001b[0m in \u001b[0;36mnet_input\u001b[0;34m(self, X)\u001b[0m\n\u001b[1;32m     44\u001b[0m     \u001b[0;32mdef\u001b[0m \u001b[0mnet_input\u001b[0m\u001b[0;34m(\u001b[0m\u001b[0mself\u001b[0m\u001b[0;34m,\u001b[0m \u001b[0mX\u001b[0m\u001b[0;34m)\u001b[0m\u001b[0;34m:\u001b[0m\u001b[0;34m\u001b[0m\u001b[0;34m\u001b[0m\u001b[0m\n\u001b[1;32m     45\u001b[0m         \u001b[0;34m\"\"\"Calculate net input\"\"\"\u001b[0m\u001b[0;34m\u001b[0m\u001b[0;34m\u001b[0m\u001b[0m\n\u001b[0;32m---> 46\u001b[0;31m         \u001b[0;32mreturn\u001b[0m \u001b[0mX\u001b[0m \u001b[0;34m@\u001b[0m \u001b[0mself\u001b[0m\u001b[0;34m.\u001b[0m\u001b[0mw_\u001b[0m\u001b[0;34m\u001b[0m\u001b[0;34m\u001b[0m\u001b[0m\n\u001b[0m\u001b[1;32m     47\u001b[0m \u001b[0;34m\u001b[0m\u001b[0m\n\u001b[1;32m     48\u001b[0m \u001b[0;34m\u001b[0m\u001b[0m\n",
            "\u001b[0;31mTypeError\u001b[0m: can't multiply sequence by non-int of type 'float'"
          ]
        }
      ]
    }
  ]
}