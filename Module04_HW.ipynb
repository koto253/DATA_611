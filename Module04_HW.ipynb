{
  "nbformat": 4,
  "nbformat_minor": 0,
  "metadata": {
    "kernelspec": {
      "display_name": "Python 3",
      "language": "python",
      "name": "python3"
    },
    "language_info": {
      "codemirror_mode": {
        "name": "ipython",
        "version": 3
      },
      "file_extension": ".py",
      "mimetype": "text/x-python",
      "name": "python",
      "nbconvert_exporter": "python",
      "pygments_lexer": "ipython3",
      "version": "3.7.3"
    },
    "colab": {
      "provenance": [],
      "include_colab_link": true
    }
  },
  "cells": [
    {
      "cell_type": "markdown",
      "metadata": {
        "id": "view-in-github",
        "colab_type": "text"
      },
      "source": [
        "<a href=\"https://colab.research.google.com/github/koto253/MATH_611/blob/main/Module04_HW.ipynb\" target=\"_parent\"><img src=\"https://colab.research.google.com/assets/colab-badge.svg\" alt=\"Open In Colab\"/></a>"
      ]
    },
    {
      "cell_type": "markdown",
      "metadata": {
        "id": "NtTxMnv6oC36"
      },
      "source": [
        "## Homework Week 4\n",
        "\n",
        "1. Summarize the basic idea of logistic regression, support vector machines (SVM), and decision tree.\n",
        "1. Read the section of Random Forest, and summarize the major steps.\n",
        "1. Why do we split samples into training and test set? What does the stratify mean?\n",
        "1. Explain what are the bias-variance trade off and regularization.\n",
        "1. When do we use SVM's kernel method?\n",
        "1. Load the scikit-learn's Wine recognition dataset; separate 20% data as test data set; predict the wine quality using the 3 methods (logistic regression, support vector machines, decision tree), and print the accuracy in the test set of each method.\n",
        "\n",
        "\n",
        "To load the data set:\n",
        "```python\n",
        "from sklearn import datasets\n",
        "import numpy as np\n",
        "\n",
        "df = datasets.load_wine()\n",
        "\n",
        "X = df.data\n",
        "y = df.target\n",
        "\n",
        "```\n",
        "\n",
        "You can check the targets and features by:\n",
        "```python\n",
        "print(df.target_names)\n",
        "print(df.feature_names)\n",
        "```\n",
        "\n",
        "To get more details of the wine data set:https://scikit-learn.org/stable/modules/generated/sklearn.datasets.load_wine.html\n"
      ]
    },
    {
      "cell_type": "code",
      "source": [],
      "metadata": {
        "id": "zJiDaX-dhJ3H"
      },
      "execution_count": null,
      "outputs": []
    }
  ]
}